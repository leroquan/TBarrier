{
 "cells": [
  {
   "cell_type": "code",
   "execution_count": 1,
   "id": "initial_id",
   "metadata": {
    "collapsed": true,
    "ExecuteTime": {
     "end_time": "2024-11-26T09:08:43.785935Z",
     "start_time": "2024-11-26T09:08:42.237635Z"
    }
   },
   "outputs": [],
   "source": [
    "import xmitgcm as xm\n",
    "import scipy.io as sio\n",
    "import numpy as np\n",
    "import pandas as pd"
   ]
  },
  {
   "cell_type": "markdown",
   "source": [
    "This is how we transform the mitgcm velocity data into a \".mat\" file. Note that the units of x,y,t need to match the units of U, V. If x, y are given in degrees and t is given in days. Then the velocity field needs to be given in deg/day. In case the velocity field (\"U\",\"V\") is given in m/s, the units of \"x\",\"y\" must be given in degrees and the units of \"t\". In case you need to convert the units of the velocity field to deg/day please use the functions [convert_meters_per_second_to_deg_per_day](convert_meters_per_second_to_deg_per_day.ipynb). This is important!"
   ],
   "metadata": {
    "collapsed": false
   },
   "id": "ba10be9809d2beb7"
  },
  {
   "cell_type": "code",
   "outputs": [],
   "source": [
    "mitgcm_results_folder = r\"D:\\MITgcm_results_Leman_Sep2021\\results\"\n",
    "mitgcm_ref_date= np.datetime64('2021-07-26T00:00:00')\n",
    "\n",
    "date_start = np.datetime64('2021-08-30')\n",
    "date_end = np.datetime64('2021-09-11')\n",
    "\n",
    "index_depth = 0"
   ],
   "metadata": {
    "collapsed": false,
    "ExecuteTime": {
     "end_time": "2024-11-26T09:08:43.801926Z",
     "start_time": "2024-11-26T09:08:43.786921Z"
    }
   },
   "id": "11014211d6f8e9ce",
   "execution_count": 2
  },
  {
   "cell_type": "code",
   "outputs": [],
   "source": [
    "str_ref_date = pd.Timestamp(mitgcm_ref_date).strftime('%Y-%m-%d %H:%M:%S').replace('00', '0')"
   ],
   "metadata": {
    "collapsed": false,
    "ExecuteTime": {
     "end_time": "2024-11-26T09:08:43.817936Z",
     "start_time": "2024-11-26T09:08:43.802929Z"
    }
   },
   "id": "be1452c7c88be371",
   "execution_count": 3
  },
  {
   "cell_type": "code",
   "outputs": [],
   "source": [
    "ds_mitgcm = xm.open_mdsdataset(mitgcm_results_folder, ref_date=str_ref_date, delta_t=4, endian='<')"
   ],
   "metadata": {
    "collapsed": false,
    "ExecuteTime": {
     "end_time": "2024-11-26T09:08:47.978364Z",
     "start_time": "2024-11-26T09:08:43.818900Z"
    }
   },
   "id": "f9662920d9152041",
   "execution_count": 4
  },
  {
   "cell_type": "code",
   "outputs": [],
   "source": [
    "sliced_ds = ds_mitgcm.sel(time =slice(date_start, date_end), Z = ds_mitgcm['Z'].values[index_depth])"
   ],
   "metadata": {
    "collapsed": false,
    "ExecuteTime": {
     "end_time": "2024-11-26T09:08:48.025630Z",
     "start_time": "2024-11-26T09:08:47.982322Z"
    }
   },
   "id": "5275fc2dddf20e69",
   "execution_count": 5
  },
  {
   "cell_type": "code",
   "outputs": [
    {
     "data": {
      "text/plain": "array([2.5000e+01, 7.5000e+01, 1.2500e+02, ..., 6.7075e+04, 6.7125e+04,\n       6.7175e+04], dtype=float32)"
     },
     "execution_count": 6,
     "metadata": {},
     "output_type": "execute_result"
    }
   ],
   "source": [
    "sliced_ds['XC'].values"
   ],
   "metadata": {
    "collapsed": false,
    "ExecuteTime": {
     "end_time": "2024-11-26T09:08:48.041045Z",
     "start_time": "2024-11-26T09:08:48.026576Z"
    }
   },
   "id": "58093d00e824ffac",
   "execution_count": 6
  },
  {
   "cell_type": "code",
   "outputs": [],
   "source": [
    "# Coordinates of the centers of the cells in meters\n",
    "x = sliced_ds['XC'].values\n",
    "y = sliced_ds['YC'].values "
   ],
   "metadata": {
    "collapsed": false,
    "ExecuteTime": {
     "end_time": "2024-11-26T09:08:48.057080Z",
     "start_time": "2024-11-26T09:08:48.041982Z"
    }
   },
   "id": "5e3d86e6e9b440ef",
   "execution_count": 7
  },
  {
   "cell_type": "code",
   "outputs": [],
   "source": [
    "u = sliced_ds['UVEL'].transpose('YC', 'XG', 'time').values\n",
    "v = sliced_ds['VVEL'].transpose('YG', 'XC', 'time').values"
   ],
   "metadata": {
    "collapsed": false,
    "ExecuteTime": {
     "end_time": "2024-11-26T09:12:33.514674Z",
     "start_time": "2024-11-26T09:08:48.058081Z"
    }
   },
   "id": "fb6d1b0af3f01207",
   "execution_count": 8
  },
  {
   "cell_type": "code",
   "outputs": [],
   "source": [
    "t = (sliced_ds['time'].values - mitgcm_ref_date).astype('timedelta64[s]').astype(int)"
   ],
   "metadata": {
    "collapsed": false,
    "ExecuteTime": {
     "end_time": "2024-11-26T09:12:33.530795Z",
     "start_time": "2024-11-26T09:12:33.515675Z"
    }
   },
   "id": "1aa397e287e51602",
   "execution_count": 9
  },
  {
   "cell_type": "code",
   "outputs": [],
   "source": [
    "# velocties in m/s\n",
    "# time in number of seconds since time_ref \n",
    "\n",
    "data_dict = {\n",
    "    'u': u, # array (NY, NX, NT)\n",
    "    'v': v, # array (NY, NX, NT)\n",
    "    'x': x, # array (NY, NX)\n",
    "    'y': y, # array (NY, NX)\n",
    "    't': t # array (1, NT)\n",
    "}\n",
    "\n",
    "# Save the data to a .mat file\n",
    "sio.savemat(f'Leman_{date_start}_{date_end}.mat', data_dict)"
   ],
   "metadata": {
    "collapsed": false,
    "ExecuteTime": {
     "end_time": "2024-11-26T09:12:41.126976Z",
     "start_time": "2024-11-26T09:12:33.531784Z"
    }
   },
   "id": "df9f1630d5ab5804",
   "execution_count": 10
  },
  {
   "cell_type": "code",
   "outputs": [],
   "source": [],
   "metadata": {
    "collapsed": false
   },
   "id": "66ae2c0be53c5a15"
  }
 ],
 "metadata": {
  "kernelspec": {
   "display_name": "Python 3",
   "language": "python",
   "name": "python3"
  },
  "language_info": {
   "codemirror_mode": {
    "name": "ipython",
    "version": 2
   },
   "file_extension": ".py",
   "mimetype": "text/x-python",
   "name": "python",
   "nbconvert_exporter": "python",
   "pygments_lexer": "ipython2",
   "version": "2.7.6"
  }
 },
 "nbformat": 4,
 "nbformat_minor": 5
}
