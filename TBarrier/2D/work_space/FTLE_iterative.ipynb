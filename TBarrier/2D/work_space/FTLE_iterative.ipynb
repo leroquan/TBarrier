{
 "cells": [
  {
   "cell_type": "markdown",
   "metadata": {},
   "source": [
    "We start by adding the necessary folders to the current working path."
   ]
  },
  {
   "cell_type": "code",
   "execution_count": 1,
   "metadata": {
    "code_folding": [
     0
    ],
    "ExecuteTime": {
     "end_time": "2024-11-27T08:15:57.187999Z",
     "start_time": "2024-11-27T08:15:55.457293Z"
    }
   },
   "outputs": [],
   "source": [
    "import sys, os\n",
    "import scipy.io as sio\n",
    "import numpy as np\n",
    "import pandas as pd\n",
    "import matplotlib.pyplot as plt\n",
    "\n",
    "\n",
    "# get current directory\n",
    "path = os.getcwd()\n",
    "# get parent directory\n",
    "parent_directory = os.path.sep.join(path.split(os.path.sep)[:-1]) # 2D folder\n",
    "\n",
    "# add utils folder to current working path\n",
    "sys.path.append(parent_directory+\"/subfunctions/utils\")\n",
    "# add integration folder to current working path\n",
    "sys.path.append(parent_directory+\"/subfunctions/integration\")\n",
    "# add FTLE folder to current working path\n",
    "sys.path.append(parent_directory+\"/demos/AdvectiveBarriers/FTLE2D\")\n",
    "# Import interpolation function for unsteady flow field\n",
    "from ipynb.fs.defs.Interpolant import interpolant_unsteady\n",
    "# Import function to compute gradient of flow map\n",
    "from ipynb.fs.defs.gradient_flowmap import gradient_flowmap\n",
    "# Import function to compute finite time Lyapunov exponent (FTLE)\n",
    "from ipynb.fs.defs.FTLE import _FTLE\n",
    "# Import package for parallel computing\n",
    "from joblib import Parallel, delayed"
   ]
  },
  {
   "cell_type": "markdown",
   "metadata": {},
   "source": [
    "# Overview\n",
    "\n",
    "In the following notebook we compute the fluctuation of the Finite Time Lyapunov Exponents ($ \\mathrm{FTLE} $) on simulated velocity fields (tested with MITgcm results). The notebook is structured as follows:\n",
    "\n",
    "1. Import data from the MITgcm results stored in the folder 'data/MITgcm'.\n",
    "2. Define computational parameters and data.\n",
    "3. Define spatio-temporal domain.\n",
    "4. Interpolate velocity from (discrete) gridded data.\n",
    "5. $ \\mathrm{FTLE} $:\n",
    "\n",
    "    Compute gradient of flow map $ \\mathbf{\\nabla F}_{t_0}^{t_N}(\\mathbf{x}_0) $ over meshgrid using an auxiliary grid.\n",
    "    \n",
    "    Compute $ \\mathrm{FTLE} $ from maximum singular value $ \\sigma_{max} $ of $ \\mathbf{\\nabla F}_{t_0}^{t_N}(\\mathbf{x}_0) $ according to:\n",
    "    \n",
    "    \\begin{equation}\n",
    "        \\mathrm{FTLE}_{t_0}^{t_N}(\\mathbf{x}_0) = \\dfrac{1}{t_N-t_0}\\log(\\sigma_{max}(\\mathbf{x}_0)) \\label{eq: FTLE} \\tag{1}\n",
    "    \\end{equation}\n",
    "       \n",
    "6. References"
   ]
  },
  {
   "cell_type": "markdown",
   "metadata": {
    "lang": "en"
   },
   "source": [
    "# Import data"
   ]
  },
  {
   "cell_type": "code",
   "execution_count": 2,
   "metadata": {
    "code_folding": [
     0
    ],
    "ExecuteTime": {
     "end_time": "2024-11-27T08:15:58.085001Z",
     "start_time": "2024-11-27T08:15:57.189999Z"
    }
   },
   "outputs": [],
   "source": [
    "# Import velocity data from file in data-folder\n",
    "mat_file = sio.loadmat('../../2D/data/MITgcm/Leman_2021-08-30_2021-09-11.mat')\n",
    "date_ref = np.datetime64('2021-07-26T00:00:00')\n",
    "\n",
    "U = mat_file['u'] # array (NY, NX, NT)\n",
    "V = mat_file['v'] # array (NY, NX, NT)\n",
    "x = mat_file['x'] # array (NY, NX)\n",
    "y = mat_file['y'] # array (NY, NX)\n",
    "time_data = mat_file['t'] # array (1, NT)\n",
    "\n",
    "# Initial time (in seconds)\n",
    "start_analysis = np.datetime64('2021-09-02T11:30:00')\n",
    "t0 = (start_analysis - date_ref)/ np.timedelta64(1, 's') # float\n",
    "#t0 = time_data[:,0][0] # float\n",
    "# Final time (in seconds)\n",
    "tN = time_data[:,-1][0] # float\n",
    "\n",
    "# NOTE: For computing the backward trajectories: ftle_interval < 0 and dt < 0.\n",
    "# FTLE interval (in seconds)\n",
    "ftle_interval = 24 * 3600\n",
    "\n",
    "# Computing time step-size (in seconds)\n",
    "dt = 3600 # float\n",
    "\n",
    "# Longitudinal and latitudinal boundaries (in degrees)\n",
    "xmin = x.min() # float\n",
    "xmax = x.max() # float\n",
    "ymin = y.min() # float\n",
    "ymax = y.max() # float"
   ]
  },
  {
   "cell_type": "markdown",
   "metadata": {},
   "source": [
    "# Computational parameters and data\n",
    "\n",
    "Here we define the computational parameters and the data."
   ]
  },
  {
   "cell_type": "code",
   "execution_count": 3,
   "metadata": {
    "code_folding": [
     0
    ],
    "ExecuteTime": {
     "end_time": "2024-11-27T08:15:58.100Z",
     "start_time": "2024-11-27T08:15:58.085998Z"
    }
   },
   "outputs": [],
   "source": [
    "# Number of cores for parallel computing\n",
    "Ncores = 10 # int\n",
    "\n",
    "# Time resolution of data\n",
    "dt_data = time_data[0, 1]-time_data[0,0] # float\n",
    "\n",
    "# Periodic boundary conditions\n",
    "periodic_x = False # bool\n",
    "periodic_y = False # bool\n",
    "periodic_t = False # bool\n",
    "periodic = [periodic_x, periodic_y, periodic_t]\n",
    "\n",
    "# Unsteady velocity field\n",
    "bool_unsteady = True # bool\n",
    "\n",
    "# Defined domain\n",
    "defined_domain = np.isfinite(U[:,:,0]).astype(int) # array (NY, NX)\n",
    "\n",
    "## Compute meshgrid of dataset\n",
    "X, Y = np.meshgrid(x, y) # array (NY, NX), array (NY, NX)\n",
    "\n",
    "## Resolution of meshgrid\n",
    "dx_data = X[0,1]-X[0,0] # float\n",
    "dy_data = Y[1,0]-Y[0,0] # float\n",
    "\n",
    "delta = [dx_data, dy_data] # list (2, )"
   ]
  },
  {
   "cell_type": "markdown",
   "metadata": {},
   "source": [
    "# Spatio-temporal domain\n",
    "\n",
    "Here we define the spatio-temporal domain over which to consider the dynamical system."
   ]
  },
  {
   "cell_type": "code",
   "outputs": [],
   "source": [
    "def check_boundaries_validity(X, Y, time_data, xmin, xmax, ymin, ymax, t0, tN):\n",
    "    # make sure that domain is part of the data domain.\n",
    "    assert np.min(X) <= xmin <= np.max(X), \" xmin must be between \"+f'{np.min(X)} and {np.max(X)}'\n",
    "    assert np.min(X) <= xmax <= np.max(X), \" xmax must be between \"+f'{np.min(X)} and {np.max(X)}'\n",
    "    assert np.min(Y) <= ymin <= np.max(Y), \" ymin must be between \"+f'{np.min(Y)} and {np.max(Y)}'\n",
    "    assert np.min(Y) <= ymax <= np.max(Y), \" ymax must be between \"+f'{np.min(Y)} and {np.max(Y)}'\n",
    "    assert np.min(time_data) <= t0 <= np.max(time_data), \" t0 must be between \"+f'{np.min(time_data)} and {np.max(time_data)}'\n",
    "    assert np.min(time_data) <= tN <= np.max(time_data), \" tN must be between \"+f'{np.min(time_data)} and {np.max(time_data)}'"
   ],
   "metadata": {
    "collapsed": false,
    "ExecuteTime": {
     "end_time": "2024-11-27T08:15:58.115999Z",
     "start_time": "2024-11-27T08:15:58.101Z"
    }
   },
   "execution_count": 4
  },
  {
   "cell_type": "code",
   "execution_count": 5,
   "metadata": {
    "code_folding": [],
    "ExecuteTime": {
     "end_time": "2024-11-27T08:15:58.132002Z",
     "start_time": "2024-11-27T08:15:58.118Z"
    }
   },
   "outputs": [],
   "source": [
    "check_boundaries_validity(X, Y, time_data, xmin, xmax, ymin, ymax, t0, tN)\n",
    "\n",
    "# Spacing of meshgrid (in degrees)\n",
    "dx = dx_data # float\n",
    "dy = dy_data # float\n",
    "\n",
    "x_domain = np.arange(xmin, xmax + dx, dx) # array (Nx, )\n",
    "y_domain = np.arange(ymin, ymax + dy, dy) # array (Ny, )\n",
    "\n",
    "X_domain, Y_domain = np.meshgrid(x_domain, y_domain) # array (Ny, Nx)\n",
    "\n",
    "Ny = X_domain.shape[0] # int\n",
    "Nx = X_domain.shape[1] # int\n",
    "\n",
    "# Define ratio of auxiliary grid spacing vs original grid_spacing\n",
    "aux_grid_ratio = .1 # float between [1/100, 1/5]\n",
    "aux_grid = [aux_grid_ratio*dx, aux_grid_ratio*dy] # list (2, )"
   ]
  },
  {
   "cell_type": "markdown",
   "metadata": {},
   "source": [
    "# Interpolate velocity\n",
    "\n",
    "In order to evaluate the velocity field at arbitrary locations and times, we interpolate the discrete velocity data. The interpolation with respect to time is always linear. The interpolation with respect to space can be chosen to be \"cubic\" or \"linear\". Default value is \"cubic\"."
   ]
  },
  {
   "cell_type": "code",
   "execution_count": 6,
   "metadata": {
    "code_folding": [],
    "ExecuteTime": {
     "end_time": "2024-11-27T08:16:18.012481Z",
     "start_time": "2024-11-27T08:15:58.133001Z"
    }
   },
   "outputs": [],
   "source": [
    "# Set nan values to zero (in case there are any) so that we can apply interpolant. \n",
    "# Interpolant does not work if the array contains nan values. \n",
    "U[np.isnan(U)] = 0\n",
    "V[np.isnan(V)] = 0\n",
    "\n",
    "# Interpolate velocity data using cubic spatial interpolation\n",
    "Interpolant = interpolant_unsteady(X, Y, U, V, method = \"cubic\")\n",
    "\n",
    "Interpolant_u = Interpolant[0] # RectangularBivariateSpline-object\n",
    "Interpolant_v = Interpolant[1] # RectangularBivariateSpline-object"
   ]
  },
  {
   "cell_type": "markdown",
   "metadata": {},
   "source": [
    "# $ \\mathrm{FTLE} $\n",
    "\n",
    "Next, we compute the $ \\mathrm{FTLE} $ over the meshgrid over the given time-interval.\n",
    "We iterate over all initial conditions and first calculate the gradient of the flow map using an auxiliary grid. From the maximum singular value of the gradient of the flow map we can then compute the $ \\mathrm{FTLE} $."
   ]
  },
  {
   "cell_type": "code",
   "execution_count": 7,
   "metadata": {
    "code_folding": [
     14
    ],
    "ExecuteTime": {
     "end_time": "2024-11-27T08:16:18.028602Z",
     "start_time": "2024-11-27T08:16:18.014481Z"
    }
   },
   "outputs": [],
   "source": [
    "# Vectorize initial conditions by arranging them to a vector of size (Nx*Ny, )\n",
    "x0 = X_domain.ravel() # array (Nx*Ny,)\n",
    "y0 = Y_domain.ravel() # array (Nx*Ny,)\n",
    "\n",
    "# Split x0, y0 into 'Ncores' equal batches for parallel computing\n",
    "def split(a, n):\n",
    "    k, m = divmod(len(a), n)\n",
    "    return (a[i*k+min(i, m):(i+1)*k+min(i+1, m)] for i in range(n))\n",
    "\n",
    "x0_batch = list(split(x0, Ncores)) # list (Nx*Ny)\n",
    "y0_batch = list(split(y0, Ncores)) # list (Nx*Ny)\n",
    "\n",
    "def parallel_FTLE(x0_batch, y0_batch, time):\n",
    "    \n",
    "    # Initial conditions\n",
    "    X0 = np.array([x0_batch, y0_batch]) # array (2, Nx*Ny)\n",
    "\n",
    "    # Compute gradient of flow map\n",
    "    gradFmap = gradient_flowmap(time, X0, X, Y, Interpolant_u, Interpolant_v, periodic, defined_domain, bool_unsteady, time_data, aux_grid) # array (Nt, 2, 2, Nx*Ny)\n",
    "\n",
    "    # Extract gradient from t0 to tN\n",
    "    gradFmap_t0_tN = gradFmap[-1,:, :, :] # array (Nt, 2, 2, Nx*Ny)\n",
    "\n",
    "    # Compute FTLE\n",
    "    FTLE = [] # list (Nx*Ny,)\n",
    "    for i in range(gradFmap_t0_tN.shape[2]):\n",
    "        FTLE.append(_FTLE(gradFmap_t0_tN[:,:,i], abs(time[0]-time[-1])))\n",
    "    \n",
    "    return FTLE"
   ]
  },
  {
   "cell_type": "code",
   "outputs": [],
   "source": [
    "def plot_and_save(fig_name, FTLE):    \n",
    "    fig = plt.figure(figsize=(14, 6))\n",
    "    ax = plt.axes()\n",
    "    \n",
    "    plt.imshow(FTLE, interpolation='nearest', vmin=0, vmax=1e-4)\n",
    "    plt.gca().invert_yaxis()\n",
    "    plt.colorbar()\n",
    "    plt.title(f'{fig_name}')\n",
    "    \n",
    "    # Axis Labels\n",
    "    ax.set_xlabel(\"XC (m)\")\n",
    "    ax.set_ylabel(\"YC (m)\")\n",
    "    \n",
    "    plt.tight_layout()\n",
    "    plt.savefig(f'figures/24h_forward_ftle_geneva/{fig_name}.png')\n",
    "    plt.close(fig)\n",
    "    \n",
    "    pd.DataFrame(FTLE).to_csv(f'results/24h_forward_ftle_geneva/{fig_name}.csv', index=False, header=False)"
   ],
   "metadata": {
    "collapsed": false,
    "ExecuteTime": {
     "end_time": "2024-11-27T08:16:18.044603Z",
     "start_time": "2024-11-27T08:16:18.029602Z"
    }
   },
   "execution_count": 8
  },
  {
   "cell_type": "code",
   "outputs": [
    {
     "name": "stdout",
     "output_type": "stream",
     "text": [
      "[Parallel(n_jobs=10)]: Using backend LokyBackend with 10 concurrent workers.\n",
      "[Parallel(n_jobs=10)]: Done   1 tasks      | elapsed:  2.4min\n",
      "[Parallel(n_jobs=10)]: Done   2 out of  10 | elapsed:  2.4min remaining:  9.8min\n",
      "[Parallel(n_jobs=10)]: Done   3 out of  10 | elapsed:  2.5min remaining:  5.9min\n",
      "[Parallel(n_jobs=10)]: Done   4 out of  10 | elapsed:  2.7min remaining:  4.0min\n",
      "[Parallel(n_jobs=10)]: Done   5 out of  10 | elapsed:  2.7min remaining:  2.7min\n",
      "[Parallel(n_jobs=10)]: Done   6 out of  10 | elapsed:  2.8min remaining:  1.9min\n",
      "[Parallel(n_jobs=10)]: Done   7 out of  10 | elapsed:  2.9min remaining:  1.3min\n",
      "[Parallel(n_jobs=10)]: Done   8 out of  10 | elapsed:  3.0min remaining:   44.8s\n",
      "[Parallel(n_jobs=10)]: Done  10 out of  10 | elapsed:  3.1min remaining:    0.0s\n",
      "[Parallel(n_jobs=10)]: Done  10 out of  10 | elapsed:  3.1min finished\n",
      "[Parallel(n_jobs=10)]: Using backend LokyBackend with 10 concurrent workers.\n",
      "[Parallel(n_jobs=10)]: Done   1 tasks      | elapsed:  2.0min\n",
      "[Parallel(n_jobs=10)]: Done   2 out of  10 | elapsed:  2.1min remaining:  8.4min\n",
      "[Parallel(n_jobs=10)]: Done   3 out of  10 | elapsed:  2.3min remaining:  5.3min\n",
      "[Parallel(n_jobs=10)]: Done   4 out of  10 | elapsed:  2.3min remaining:  3.5min\n",
      "[Parallel(n_jobs=10)]: Done   5 out of  10 | elapsed:  2.4min remaining:  2.4min\n",
      "[Parallel(n_jobs=10)]: Done   6 out of  10 | elapsed:  2.5min remaining:  1.6min\n",
      "[Parallel(n_jobs=10)]: Done   7 out of  10 | elapsed:  2.5min remaining:  1.1min\n",
      "[Parallel(n_jobs=10)]: Done   8 out of  10 | elapsed:  2.6min remaining:   39.1s\n",
      "[Parallel(n_jobs=10)]: Done  10 out of  10 | elapsed:  2.7min remaining:    0.0s\n",
      "[Parallel(n_jobs=10)]: Done  10 out of  10 | elapsed:  2.7min finished\n",
      "[Parallel(n_jobs=10)]: Using backend LokyBackend with 10 concurrent workers.\n",
      "[Parallel(n_jobs=10)]: Done   1 tasks      | elapsed:  2.0min\n",
      "[Parallel(n_jobs=10)]: Done   2 out of  10 | elapsed:  2.1min remaining:  8.3min\n",
      "[Parallel(n_jobs=10)]: Done   3 out of  10 | elapsed:  2.2min remaining:  5.1min\n",
      "[Parallel(n_jobs=10)]: Done   4 out of  10 | elapsed:  2.3min remaining:  3.4min\n",
      "[Parallel(n_jobs=10)]: Done   5 out of  10 | elapsed:  2.4min remaining:  2.4min\n",
      "[Parallel(n_jobs=10)]: Done   6 out of  10 | elapsed:  2.4min remaining:  1.6min\n",
      "[Parallel(n_jobs=10)]: Done   7 out of  10 | elapsed:  2.5min remaining:  1.1min\n",
      "[Parallel(n_jobs=10)]: Done   8 out of  10 | elapsed:  2.6min remaining:   38.6s\n",
      "[Parallel(n_jobs=10)]: Done  10 out of  10 | elapsed:  2.7min remaining:    0.0s\n",
      "[Parallel(n_jobs=10)]: Done  10 out of  10 | elapsed:  2.7min finished\n",
      "[Parallel(n_jobs=10)]: Using backend LokyBackend with 10 concurrent workers.\n",
      "[Parallel(n_jobs=10)]: Done   1 tasks      | elapsed:  2.1min\n",
      "[Parallel(n_jobs=10)]: Done   2 out of  10 | elapsed:  2.2min remaining:  8.9min\n",
      "[Parallel(n_jobs=10)]: Done   3 out of  10 | elapsed:  2.4min remaining:  5.5min\n",
      "[Parallel(n_jobs=10)]: Done   4 out of  10 | elapsed:  2.5min remaining:  3.7min\n",
      "[Parallel(n_jobs=10)]: Done   5 out of  10 | elapsed:  2.5min remaining:  2.5min\n",
      "[Parallel(n_jobs=10)]: Done   6 out of  10 | elapsed:  2.6min remaining:  1.7min\n",
      "[Parallel(n_jobs=10)]: Done   7 out of  10 | elapsed:  2.7min remaining:  1.1min\n",
      "[Parallel(n_jobs=10)]: Done   8 out of  10 | elapsed:  2.8min remaining:   41.3s\n",
      "[Parallel(n_jobs=10)]: Done  10 out of  10 | elapsed:  2.9min remaining:    0.0s\n",
      "[Parallel(n_jobs=10)]: Done  10 out of  10 | elapsed:  2.9min finished\n",
      "[Parallel(n_jobs=10)]: Using backend LokyBackend with 10 concurrent workers.\n",
      "[Parallel(n_jobs=10)]: Done   1 tasks      | elapsed:  1.9min\n",
      "[Parallel(n_jobs=10)]: Done   2 out of  10 | elapsed:  2.0min remaining:  8.1min\n",
      "[Parallel(n_jobs=10)]: Done   3 out of  10 | elapsed:  2.1min remaining:  5.0min\n",
      "[Parallel(n_jobs=10)]: Done   4 out of  10 | elapsed:  2.2min remaining:  3.4min\n",
      "[Parallel(n_jobs=10)]: Done   5 out of  10 | elapsed:  2.3min remaining:  2.3min\n",
      "[Parallel(n_jobs=10)]: Done   6 out of  10 | elapsed:  2.4min remaining:  1.6min\n",
      "[Parallel(n_jobs=10)]: Done   7 out of  10 | elapsed:  2.4min remaining:  1.0min\n",
      "[Parallel(n_jobs=10)]: Done   8 out of  10 | elapsed:  2.5min remaining:   37.6s\n",
      "[Parallel(n_jobs=10)]: Done  10 out of  10 | elapsed:  2.6min remaining:    0.0s\n",
      "[Parallel(n_jobs=10)]: Done  10 out of  10 | elapsed:  2.6min finished\n",
      "[Parallel(n_jobs=10)]: Using backend LokyBackend with 10 concurrent workers.\n",
      "[Parallel(n_jobs=10)]: Done   1 tasks      | elapsed:  1.8min\n",
      "[Parallel(n_jobs=10)]: Done   2 out of  10 | elapsed:  2.0min remaining:  7.8min\n",
      "[Parallel(n_jobs=10)]: Done   3 out of  10 | elapsed:  2.1min remaining:  4.9min\n",
      "[Parallel(n_jobs=10)]: Done   4 out of  10 | elapsed:  2.2min remaining:  3.3min\n",
      "[Parallel(n_jobs=10)]: Done   5 out of  10 | elapsed:  2.2min remaining:  2.2min\n",
      "[Parallel(n_jobs=10)]: Done   6 out of  10 | elapsed:  2.3min remaining:  1.5min\n",
      "[Parallel(n_jobs=10)]: Done   7 out of  10 | elapsed:  2.4min remaining:  1.0min\n",
      "[Parallel(n_jobs=10)]: Done   8 out of  10 | elapsed:  2.4min remaining:   36.5s\n",
      "[Parallel(n_jobs=10)]: Done  10 out of  10 | elapsed:  2.6min remaining:    0.0s\n",
      "[Parallel(n_jobs=10)]: Done  10 out of  10 | elapsed:  2.6min finished\n",
      "[Parallel(n_jobs=10)]: Using backend LokyBackend with 10 concurrent workers.\n",
      "[Parallel(n_jobs=10)]: Done   1 tasks      | elapsed:  1.7min\n",
      "[Parallel(n_jobs=10)]: Done   2 out of  10 | elapsed:  1.8min remaining:  7.3min\n",
      "[Parallel(n_jobs=10)]: Done   3 out of  10 | elapsed:  2.0min remaining:  4.6min\n",
      "[Parallel(n_jobs=10)]: Done   4 out of  10 | elapsed:  2.0min remaining:  3.1min\n",
      "[Parallel(n_jobs=10)]: Done   5 out of  10 | elapsed:  2.1min remaining:  2.1min\n",
      "[Parallel(n_jobs=10)]: Done   6 out of  10 | elapsed:  2.2min remaining:  1.4min\n",
      "[Parallel(n_jobs=10)]: Done   7 out of  10 | elapsed:  2.2min remaining:   57.4s\n",
      "[Parallel(n_jobs=10)]: Done   8 out of  10 | elapsed:  2.3min remaining:   34.5s\n",
      "[Parallel(n_jobs=10)]: Done  10 out of  10 | elapsed:  2.4min remaining:    0.0s\n",
      "[Parallel(n_jobs=10)]: Done  10 out of  10 | elapsed:  2.4min finished\n",
      "[Parallel(n_jobs=10)]: Using backend LokyBackend with 10 concurrent workers.\n",
      "[Parallel(n_jobs=10)]: Done   1 tasks      | elapsed:  1.8min\n",
      "[Parallel(n_jobs=10)]: Done   2 out of  10 | elapsed:  1.9min remaining:  7.4min\n",
      "[Parallel(n_jobs=10)]: Done   3 out of  10 | elapsed:  2.0min remaining:  4.6min\n",
      "[Parallel(n_jobs=10)]: Done   4 out of  10 | elapsed:  2.1min remaining:  3.1min\n",
      "[Parallel(n_jobs=10)]: Done   5 out of  10 | elapsed:  2.1min remaining:  2.1min\n",
      "[Parallel(n_jobs=10)]: Done   6 out of  10 | elapsed:  2.2min remaining:  1.5min\n",
      "[Parallel(n_jobs=10)]: Done   7 out of  10 | elapsed:  2.2min remaining:   57.8s\n",
      "[Parallel(n_jobs=10)]: Done   8 out of  10 | elapsed:  2.3min remaining:   34.9s\n",
      "[Parallel(n_jobs=10)]: Done  10 out of  10 | elapsed:  2.4min remaining:    0.0s\n",
      "[Parallel(n_jobs=10)]: Done  10 out of  10 | elapsed:  2.4min finished\n",
      "[Parallel(n_jobs=10)]: Using backend LokyBackend with 10 concurrent workers.\n",
      "[Parallel(n_jobs=10)]: Done   1 tasks      | elapsed:  1.8min\n",
      "[Parallel(n_jobs=10)]: Done   2 out of  10 | elapsed:  1.9min remaining:  7.4min\n",
      "[Parallel(n_jobs=10)]: Done   3 out of  10 | elapsed:  2.0min remaining:  4.6min\n",
      "[Parallel(n_jobs=10)]: Done   4 out of  10 | elapsed:  2.0min remaining:  3.1min\n",
      "[Parallel(n_jobs=10)]: Done   5 out of  10 | elapsed:  2.1min remaining:  2.1min\n",
      "[Parallel(n_jobs=10)]: Done   6 out of  10 | elapsed:  2.2min remaining:  1.4min\n",
      "[Parallel(n_jobs=10)]: Done   7 out of  10 | elapsed:  2.2min remaining:   57.8s\n",
      "[Parallel(n_jobs=10)]: Done   8 out of  10 | elapsed:  2.3min remaining:   34.5s\n",
      "[Parallel(n_jobs=10)]: Done  10 out of  10 | elapsed:  2.4min remaining:    0.0s\n",
      "[Parallel(n_jobs=10)]: Done  10 out of  10 | elapsed:  2.4min finished\n",
      "[Parallel(n_jobs=10)]: Using backend LokyBackend with 10 concurrent workers.\n",
      "[Parallel(n_jobs=10)]: Done   1 tasks      | elapsed:  1.7min\n",
      "[Parallel(n_jobs=10)]: Done   2 out of  10 | elapsed:  1.8min remaining:  7.3min\n",
      "[Parallel(n_jobs=10)]: Done   3 out of  10 | elapsed:  1.9min remaining:  4.5min\n",
      "[Parallel(n_jobs=10)]: Done   4 out of  10 | elapsed:  2.0min remaining:  3.0min\n",
      "[Parallel(n_jobs=10)]: Done   5 out of  10 | elapsed:  2.1min remaining:  2.1min\n",
      "[Parallel(n_jobs=10)]: Done   6 out of  10 | elapsed:  2.2min remaining:  1.4min\n",
      "[Parallel(n_jobs=10)]: Done   7 out of  10 | elapsed:  2.2min remaining:   57.3s\n",
      "[Parallel(n_jobs=10)]: Done   8 out of  10 | elapsed:  2.3min remaining:   34.4s\n",
      "[Parallel(n_jobs=10)]: Done  10 out of  10 | elapsed:  2.4min remaining:    0.0s\n",
      "[Parallel(n_jobs=10)]: Done  10 out of  10 | elapsed:  2.4min finished\n",
      "[Parallel(n_jobs=10)]: Using backend LokyBackend with 10 concurrent workers.\n",
      "[Parallel(n_jobs=10)]: Done   1 tasks      | elapsed:  1.7min\n",
      "[Parallel(n_jobs=10)]: Done   2 out of  10 | elapsed:  1.8min remaining:  7.4min\n",
      "[Parallel(n_jobs=10)]: Done   3 out of  10 | elapsed:  2.0min remaining:  4.6min\n",
      "[Parallel(n_jobs=10)]: Done   4 out of  10 | elapsed:  2.0min remaining:  3.1min\n",
      "[Parallel(n_jobs=10)]: Done   5 out of  10 | elapsed:  2.1min remaining:  2.1min\n",
      "[Parallel(n_jobs=10)]: Done   6 out of  10 | elapsed:  2.2min remaining:  1.4min\n",
      "[Parallel(n_jobs=10)]: Done   7 out of  10 | elapsed:  2.2min remaining:   57.6s\n",
      "[Parallel(n_jobs=10)]: Done   8 out of  10 | elapsed:  2.3min remaining:   34.6s\n",
      "[Parallel(n_jobs=10)]: Done  10 out of  10 | elapsed:  2.4min remaining:    0.0s\n",
      "[Parallel(n_jobs=10)]: Done  10 out of  10 | elapsed:  2.4min finished\n",
      "[Parallel(n_jobs=10)]: Using backend LokyBackend with 10 concurrent workers.\n",
      "[Parallel(n_jobs=10)]: Done   1 tasks      | elapsed:  1.8min\n",
      "[Parallel(n_jobs=10)]: Done   2 out of  10 | elapsed:  1.9min remaining:  7.4min\n",
      "[Parallel(n_jobs=10)]: Done   3 out of  10 | elapsed:  2.0min remaining:  4.6min\n",
      "[Parallel(n_jobs=10)]: Done   4 out of  10 | elapsed:  2.0min remaining:  3.1min\n",
      "[Parallel(n_jobs=10)]: Done   5 out of  10 | elapsed:  2.1min remaining:  2.1min\n",
      "[Parallel(n_jobs=10)]: Done   6 out of  10 | elapsed:  2.2min remaining:  1.4min\n",
      "[Parallel(n_jobs=10)]: Done   7 out of  10 | elapsed:  2.2min remaining:   57.7s\n",
      "[Parallel(n_jobs=10)]: Done   8 out of  10 | elapsed:  2.3min remaining:   34.4s\n",
      "[Parallel(n_jobs=10)]: Done  10 out of  10 | elapsed:  2.4min remaining:    0.0s\n",
      "[Parallel(n_jobs=10)]: Done  10 out of  10 | elapsed:  2.4min finished\n",
      "[Parallel(n_jobs=10)]: Using backend LokyBackend with 10 concurrent workers.\n",
      "[Parallel(n_jobs=10)]: Done   1 tasks      | elapsed:  1.8min\n",
      "[Parallel(n_jobs=10)]: Done   2 out of  10 | elapsed:  1.9min remaining:  7.4min\n",
      "[Parallel(n_jobs=10)]: Done   3 out of  10 | elapsed:  1.9min remaining:  4.5min\n",
      "[Parallel(n_jobs=10)]: Done   4 out of  10 | elapsed:  2.0min remaining:  3.0min\n",
      "[Parallel(n_jobs=10)]: Done   5 out of  10 | elapsed:  2.1min remaining:  2.1min\n",
      "[Parallel(n_jobs=10)]: Done   6 out of  10 | elapsed:  2.1min remaining:  1.4min\n",
      "[Parallel(n_jobs=10)]: Done   7 out of  10 | elapsed:  2.2min remaining:   57.2s\n",
      "[Parallel(n_jobs=10)]: Done   8 out of  10 | elapsed:  2.3min remaining:   34.1s\n",
      "[Parallel(n_jobs=10)]: Done  10 out of  10 | elapsed:  2.4min remaining:    0.0s\n",
      "[Parallel(n_jobs=10)]: Done  10 out of  10 | elapsed:  2.4min finished\n",
      "[Parallel(n_jobs=10)]: Using backend LokyBackend with 10 concurrent workers.\n",
      "[Parallel(n_jobs=10)]: Done   1 tasks      | elapsed:  1.7min\n",
      "[Parallel(n_jobs=10)]: Done   2 out of  10 | elapsed:  1.8min remaining:  7.4min\n",
      "[Parallel(n_jobs=10)]: Done   3 out of  10 | elapsed:  1.9min remaining:  4.5min\n",
      "[Parallel(n_jobs=10)]: Done   4 out of  10 | elapsed:  2.0min remaining:  3.1min\n",
      "[Parallel(n_jobs=10)]: Done   5 out of  10 | elapsed:  2.1min remaining:  2.1min\n",
      "[Parallel(n_jobs=10)]: Done   6 out of  10 | elapsed:  2.1min remaining:  1.4min\n",
      "[Parallel(n_jobs=10)]: Done   7 out of  10 | elapsed:  2.2min remaining:   57.4s\n",
      "[Parallel(n_jobs=10)]: Done   8 out of  10 | elapsed:  2.3min remaining:   34.4s\n",
      "[Parallel(n_jobs=10)]: Done  10 out of  10 | elapsed:  2.4min remaining:    0.0s\n",
      "[Parallel(n_jobs=10)]: Done  10 out of  10 | elapsed:  2.4min finished\n",
      "[Parallel(n_jobs=10)]: Using backend LokyBackend with 10 concurrent workers.\n",
      "[Parallel(n_jobs=10)]: Done   1 tasks      | elapsed:  1.7min\n",
      "[Parallel(n_jobs=10)]: Done   2 out of  10 | elapsed:  1.8min remaining:  7.3min\n",
      "[Parallel(n_jobs=10)]: Done   3 out of  10 | elapsed:  1.9min remaining:  4.5min\n",
      "[Parallel(n_jobs=10)]: Done   4 out of  10 | elapsed:  2.0min remaining:  3.1min\n",
      "[Parallel(n_jobs=10)]: Done   5 out of  10 | elapsed:  2.1min remaining:  2.1min\n",
      "[Parallel(n_jobs=10)]: Done   6 out of  10 | elapsed:  2.1min remaining:  1.4min\n",
      "[Parallel(n_jobs=10)]: Done   7 out of  10 | elapsed:  2.2min remaining:   56.8s\n",
      "[Parallel(n_jobs=10)]: Done   8 out of  10 | elapsed:  2.3min remaining:   34.2s\n",
      "[Parallel(n_jobs=10)]: Done  10 out of  10 | elapsed:  2.4min remaining:    0.0s\n",
      "[Parallel(n_jobs=10)]: Done  10 out of  10 | elapsed:  2.4min finished\n",
      "[Parallel(n_jobs=10)]: Using backend LokyBackend with 10 concurrent workers.\n",
      "[Parallel(n_jobs=10)]: Done   1 tasks      | elapsed:  1.7min\n",
      "[Parallel(n_jobs=10)]: Done   2 out of  10 | elapsed:  1.8min remaining:  7.3min\n",
      "[Parallel(n_jobs=10)]: Done   3 out of  10 | elapsed:  2.0min remaining:  4.6min\n",
      "[Parallel(n_jobs=10)]: Done   4 out of  10 | elapsed:  2.0min remaining:  3.1min\n",
      "[Parallel(n_jobs=10)]: Done   5 out of  10 | elapsed:  2.1min remaining:  2.1min\n",
      "[Parallel(n_jobs=10)]: Done   6 out of  10 | elapsed:  2.1min remaining:  1.4min\n",
      "[Parallel(n_jobs=10)]: Done   7 out of  10 | elapsed:  2.2min remaining:   56.5s\n",
      "[Parallel(n_jobs=10)]: Done   8 out of  10 | elapsed:  2.3min remaining:   34.1s\n",
      "[Parallel(n_jobs=10)]: Done  10 out of  10 | elapsed:  2.4min remaining:    0.0s\n",
      "[Parallel(n_jobs=10)]: Done  10 out of  10 | elapsed:  2.4min finished\n",
      "[Parallel(n_jobs=10)]: Using backend LokyBackend with 10 concurrent workers.\n",
      "[Parallel(n_jobs=10)]: Done   1 tasks      | elapsed:  1.7min\n",
      "[Parallel(n_jobs=10)]: Done   2 out of  10 | elapsed:  1.8min remaining:  7.3min\n",
      "[Parallel(n_jobs=10)]: Done   3 out of  10 | elapsed:  1.9min remaining:  4.5min\n",
      "[Parallel(n_jobs=10)]: Done   4 out of  10 | elapsed:  2.0min remaining:  3.1min\n",
      "[Parallel(n_jobs=10)]: Done   5 out of  10 | elapsed:  2.1min remaining:  2.1min\n",
      "[Parallel(n_jobs=10)]: Done   6 out of  10 | elapsed:  2.1min remaining:  1.4min\n",
      "[Parallel(n_jobs=10)]: Done   7 out of  10 | elapsed:  2.2min remaining:   57.2s\n",
      "[Parallel(n_jobs=10)]: Done   8 out of  10 | elapsed:  2.3min remaining:   33.7s\n",
      "[Parallel(n_jobs=10)]: Done  10 out of  10 | elapsed:  2.4min remaining:    0.0s\n",
      "[Parallel(n_jobs=10)]: Done  10 out of  10 | elapsed:  2.4min finished\n",
      "[Parallel(n_jobs=10)]: Using backend LokyBackend with 10 concurrent workers.\n",
      "[Parallel(n_jobs=10)]: Done   1 tasks      | elapsed:  1.7min\n",
      "[Parallel(n_jobs=10)]: Done   2 out of  10 | elapsed:  1.9min remaining:  7.4min\n",
      "[Parallel(n_jobs=10)]: Done   3 out of  10 | elapsed:  1.9min remaining:  4.5min\n",
      "[Parallel(n_jobs=10)]: Done   4 out of  10 | elapsed:  2.0min remaining:  3.0min\n",
      "[Parallel(n_jobs=10)]: Done   5 out of  10 | elapsed:  2.1min remaining:  2.1min\n",
      "[Parallel(n_jobs=10)]: Done   6 out of  10 | elapsed:  2.1min remaining:  1.4min\n",
      "[Parallel(n_jobs=10)]: Done   7 out of  10 | elapsed:  2.2min remaining:   56.2s\n",
      "[Parallel(n_jobs=10)]: Done   8 out of  10 | elapsed:  2.3min remaining:   34.0s\n",
      "[Parallel(n_jobs=10)]: Done  10 out of  10 | elapsed:  2.4min remaining:    0.0s\n",
      "[Parallel(n_jobs=10)]: Done  10 out of  10 | elapsed:  2.4min finished\n",
      "[Parallel(n_jobs=10)]: Using backend LokyBackend with 10 concurrent workers.\n",
      "[Parallel(n_jobs=10)]: Done   1 tasks      | elapsed:  1.7min\n",
      "[Parallel(n_jobs=10)]: Done   2 out of  10 | elapsed:  1.8min remaining:  7.3min\n",
      "[Parallel(n_jobs=10)]: Done   3 out of  10 | elapsed:  1.9min remaining:  4.5min\n",
      "[Parallel(n_jobs=10)]: Done   4 out of  10 | elapsed:  2.0min remaining:  3.1min\n",
      "[Parallel(n_jobs=10)]: Done   5 out of  10 | elapsed:  2.1min remaining:  2.1min\n",
      "[Parallel(n_jobs=10)]: Done   6 out of  10 | elapsed:  2.1min remaining:  1.4min\n",
      "[Parallel(n_jobs=10)]: Done   7 out of  10 | elapsed:  2.2min remaining:   56.8s\n",
      "[Parallel(n_jobs=10)]: Done   8 out of  10 | elapsed:  2.3min remaining:   33.9s\n",
      "[Parallel(n_jobs=10)]: Done  10 out of  10 | elapsed:  2.4min remaining:    0.0s\n",
      "[Parallel(n_jobs=10)]: Done  10 out of  10 | elapsed:  2.4min finished\n",
      "[Parallel(n_jobs=10)]: Using backend LokyBackend with 10 concurrent workers.\n",
      "[Parallel(n_jobs=10)]: Done   1 tasks      | elapsed:  1.8min\n",
      "[Parallel(n_jobs=10)]: Done   2 out of  10 | elapsed:  1.9min remaining:  7.4min\n",
      "[Parallel(n_jobs=10)]: Done   3 out of  10 | elapsed:  1.9min remaining:  4.5min\n",
      "[Parallel(n_jobs=10)]: Done   4 out of  10 | elapsed:  2.0min remaining:  3.0min\n",
      "[Parallel(n_jobs=10)]: Done   5 out of  10 | elapsed:  2.1min remaining:  2.1min\n",
      "[Parallel(n_jobs=10)]: Done   6 out of  10 | elapsed:  2.1min remaining:  1.4min\n",
      "[Parallel(n_jobs=10)]: Done   7 out of  10 | elapsed:  2.2min remaining:   56.3s\n",
      "[Parallel(n_jobs=10)]: Done   8 out of  10 | elapsed:  2.3min remaining:   33.7s\n",
      "[Parallel(n_jobs=10)]: Done  10 out of  10 | elapsed:  2.4min remaining:    0.0s\n",
      "[Parallel(n_jobs=10)]: Done  10 out of  10 | elapsed:  2.4min finished\n",
      "[Parallel(n_jobs=10)]: Using backend LokyBackend with 10 concurrent workers.\n",
      "[Parallel(n_jobs=10)]: Done   1 tasks      | elapsed:  3.9min\n",
      "[Parallel(n_jobs=10)]: Done   2 out of  10 | elapsed:  4.2min remaining: 17.0min\n",
      "[Parallel(n_jobs=10)]: Done   3 out of  10 | elapsed:  4.5min remaining: 10.5min\n",
      "[Parallel(n_jobs=10)]: Done   4 out of  10 | elapsed:  4.7min remaining:  7.1min\n",
      "[Parallel(n_jobs=10)]: Done   5 out of  10 | elapsed:  4.9min remaining:  4.9min\n",
      "[Parallel(n_jobs=10)]: Done   6 out of  10 | elapsed:  5.0min remaining:  3.3min\n",
      "[Parallel(n_jobs=10)]: Done   7 out of  10 | elapsed:  5.2min remaining:  2.2min\n",
      "[Parallel(n_jobs=10)]: Done   8 out of  10 | elapsed:  5.4min remaining:  1.3min\n",
      "[Parallel(n_jobs=10)]: Done  10 out of  10 | elapsed:  5.6min remaining:    0.0s\n",
      "[Parallel(n_jobs=10)]: Done  10 out of  10 | elapsed:  5.6min finished\n",
      "[Parallel(n_jobs=10)]: Using backend LokyBackend with 10 concurrent workers.\n",
      "[Parallel(n_jobs=10)]: Done   1 tasks      | elapsed:  5.4min\n",
      "[Parallel(n_jobs=10)]: Done   2 out of  10 | elapsed:  5.7min remaining: 22.8min\n",
      "[Parallel(n_jobs=10)]: Done   3 out of  10 | elapsed:  6.0min remaining: 13.9min\n",
      "[Parallel(n_jobs=10)]: Done   4 out of  10 | elapsed:  6.2min remaining:  9.3min\n",
      "[Parallel(n_jobs=10)]: Done   5 out of  10 | elapsed:  6.4min remaining:  6.4min\n",
      "[Parallel(n_jobs=10)]: Done   6 out of  10 | elapsed:  6.5min remaining:  4.3min\n",
      "[Parallel(n_jobs=10)]: Done   7 out of  10 | elapsed:  6.7min remaining:  2.9min\n",
      "[Parallel(n_jobs=10)]: Done   8 out of  10 | elapsed:  6.8min remaining:  1.7min\n",
      "[Parallel(n_jobs=10)]: Done  10 out of  10 | elapsed:  7.0min remaining:    0.0s\n",
      "[Parallel(n_jobs=10)]: Done  10 out of  10 | elapsed:  7.0min finished\n",
      "[Parallel(n_jobs=10)]: Using backend LokyBackend with 10 concurrent workers.\n"
     ]
    }
   ],
   "source": [
    "for t_ini in np.arange(t0, tN - ftle_interval - dt, dt):\n",
    "    time = np.arange(t_ini, t_ini+ftle_interval+dt, dt) # shape (Nt,)\n",
    "\n",
    "    # compute FTLE\n",
    "    results = Parallel(n_jobs=Ncores, verbose = 50)(delayed(parallel_FTLE)(x0_batch[i], y0_batch[i], time) for i in range(len(x0_batch)))\n",
    "\n",
    "    # Extract FTLE from results of parallel computing\n",
    "    FTLE = results[0]\n",
    "    \n",
    "    for res in results[1:]:\n",
    "        FTLE = np.append(FTLE, res)\n",
    "        \n",
    "    # Reshape array from vectorized form to structured meshgrid\n",
    "    FTLE = FTLE.reshape((X_domain.shape[0], X_domain.shape[1])) # array (Ny, Nx)\n",
    "    \n",
    "    date_start =  pd.Timestamp(date_ref + np.timedelta64(int(t_ini), 's')).strftime('%Y-%m-%d_%H-%M-%S')\n",
    "    date_end =  pd.Timestamp(date_ref + np.timedelta64(int(t_ini)+ftle_interval, 's')).strftime('%Y-%m-%d_%H-%M-%S')  \n",
    "    \n",
    "    fig_name = f'FTLE Geneva {date_start} - {date_end}'\n",
    "    plot_and_save(fig_name, FTLE)"
   ],
   "metadata": {
    "collapsed": false,
    "is_executing": true,
    "ExecuteTime": {
     "start_time": "2024-11-27T08:16:18.045603Z"
    }
   },
   "execution_count": null
  },
  {
   "cell_type": "code",
   "outputs": [],
   "source": [
    "print('test')"
   ],
   "metadata": {
    "collapsed": false,
    "is_executing": true
   }
  },
  {
   "cell_type": "markdown",
   "metadata": {},
   "source": [
    "# References\n",
    "\n",
    "[1] Haller, G. (2001). Distinguished material surfaces and coherent structures in three-dimensional fluid flows. Physica D: Nonlinear Phenomena, 149(4), 248-277.\n",
    "\n",
    "[2] Haller, G. (2015). Lagrangian coherent structures. Annual Review of Fluid Mechanics, 47, 137-162.\n",
    "\n",
    "[3] Haller, G., & Sapsis, T. (2011). Lagrangian coherent structures and the smallest finite-time Lyapunov exponent. Chaos: An Interdisciplinary Journal of Nonlinear Science, 21(2), 023115.\n",
    "\n",
    "[4] Notebook 5.1. in \"Transport Barriers and Coherent Structures in Flow Data\" by Prof. George Haller."
   ]
  },
  {
   "cell_type": "code",
   "outputs": [],
   "source": [],
   "metadata": {
    "collapsed": false,
    "is_executing": true
   },
   "execution_count": null
  }
 ],
 "metadata": {
  "hide_input": false,
  "kernelspec": {
   "display_name": "Python 3",
   "language": "python",
   "name": "python3"
  },
  "language_info": {
   "codemirror_mode": {
    "name": "ipython",
    "version": 3
   },
   "file_extension": ".py",
   "mimetype": "text/x-python",
   "name": "python",
   "nbconvert_exporter": "python",
   "pygments_lexer": "ipython3",
   "version": "3.7.12"
  },
  "latex_envs": {
   "LaTeX_envs_menu_present": true,
   "autoclose": false,
   "autocomplete": true,
   "bibliofile": "biblio.bib",
   "cite_by": "apalike",
   "current_citInitial": 1,
   "eqLabelWithNumbers": true,
   "eqNumInitial": 1,
   "hotkeys": {
    "equation": "Ctrl-E",
    "itemize": "Ctrl-I"
   },
   "labels_anchors": false,
   "latex_user_defs": false,
   "report_style_numbering": false,
   "user_envs_cfg": false
  },
  "nbTranslate": {
   "displayLangs": [
    "*"
   ],
   "hotkey": "alt-t",
   "langInMainMenu": true,
   "sourceLang": "en",
   "targetLang": "fr",
   "useGoogleTranslate": true
  },
  "toc": {
   "base_numbering": "0",
   "nav_menu": {},
   "number_sections": true,
   "sideBar": true,
   "skip_h1_title": false,
   "title_cell": "Table of Contents",
   "title_sidebar": "Contents",
   "toc_cell": false,
   "toc_position": {
    "height": "calc(100% - 180px)",
    "left": "10px",
    "top": "150px",
    "width": "211px"
   },
   "toc_section_display": true,
   "toc_window_display": true
  }
 },
 "nbformat": 4,
 "nbformat_minor": 4
}
